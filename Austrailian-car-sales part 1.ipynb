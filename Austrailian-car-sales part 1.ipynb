{
 "cells": [
  {
   "cell_type": "code",
   "execution_count": 90,
   "id": "fdffc3fb",
   "metadata": {},
   "outputs": [],
   "source": [
    "import pandas as pd\n",
    "import numpy as np\n",
    "import os"
   ]
  },
  {
   "cell_type": "code",
   "execution_count": 91,
   "id": "ad07d2a1",
   "metadata": {},
   "outputs": [],
   "source": [
    "import warnings\n",
    "warnings.filterwarnings('ignore')\n"
   ]
  },
  {
   "cell_type": "markdown",
   "id": "b74d4f57",
   "metadata": {},
   "source": [
    "# 1.The Problem\n",
    "How to valuate a car in Australia\n",
    "# 2.Causes of the analysis\n",
    "This is to understand the car pricing in Australia"
   ]
  },
  {
   "cell_type": "code",
   "execution_count": 92,
   "id": "cf31cce4",
   "metadata": {},
   "outputs": [
    {
     "data": {
      "text/html": [
       "<div>\n",
       "<style scoped>\n",
       "    .dataframe tbody tr th:only-of-type {\n",
       "        vertical-align: middle;\n",
       "    }\n",
       "\n",
       "    .dataframe tbody tr th {\n",
       "        vertical-align: top;\n",
       "    }\n",
       "\n",
       "    .dataframe thead th {\n",
       "        text-align: right;\n",
       "    }\n",
       "</style>\n",
       "<table border=\"1\" class=\"dataframe\">\n",
       "  <thead>\n",
       "    <tr style=\"text-align: right;\">\n",
       "      <th></th>\n",
       "      <th>Brand</th>\n",
       "      <th>Year</th>\n",
       "      <th>Model</th>\n",
       "      <th>Car/Suv</th>\n",
       "      <th>Title</th>\n",
       "      <th>UsedOrNew</th>\n",
       "      <th>Transmission</th>\n",
       "      <th>Engine</th>\n",
       "      <th>DriveType</th>\n",
       "      <th>FuelType</th>\n",
       "      <th>FuelConsumption</th>\n",
       "      <th>Kilometres</th>\n",
       "      <th>ColourExtInt</th>\n",
       "      <th>Location</th>\n",
       "      <th>CylindersinEngine</th>\n",
       "      <th>BodyType</th>\n",
       "      <th>Doors</th>\n",
       "      <th>Seats</th>\n",
       "      <th>Price</th>\n",
       "    </tr>\n",
       "  </thead>\n",
       "  <tbody>\n",
       "    <tr>\n",
       "      <th>0</th>\n",
       "      <td>Ssangyong</td>\n",
       "      <td>2022.0</td>\n",
       "      <td>Rexton</td>\n",
       "      <td>Sutherland Isuzu Ute</td>\n",
       "      <td>2022 Ssangyong Rexton Ultimate (awd)</td>\n",
       "      <td>DEMO</td>\n",
       "      <td>Automatic</td>\n",
       "      <td>4 cyl, 2.2 L</td>\n",
       "      <td>AWD</td>\n",
       "      <td>Diesel</td>\n",
       "      <td>8.7 L / 100 km</td>\n",
       "      <td>5595</td>\n",
       "      <td>White / Black</td>\n",
       "      <td>Caringbah, NSW</td>\n",
       "      <td>4 cyl</td>\n",
       "      <td>SUV</td>\n",
       "      <td>4 Doors</td>\n",
       "      <td>7 Seats</td>\n",
       "      <td>51990</td>\n",
       "    </tr>\n",
       "    <tr>\n",
       "      <th>1</th>\n",
       "      <td>MG</td>\n",
       "      <td>2022.0</td>\n",
       "      <td>MG3</td>\n",
       "      <td>Hatchback</td>\n",
       "      <td>2022 MG MG3 Auto Excite (with Navigation)</td>\n",
       "      <td>USED</td>\n",
       "      <td>Automatic</td>\n",
       "      <td>4 cyl, 1.5 L</td>\n",
       "      <td>Front</td>\n",
       "      <td>Premium</td>\n",
       "      <td>6.7 L / 100 km</td>\n",
       "      <td>16</td>\n",
       "      <td>Black / Black</td>\n",
       "      <td>Brookvale, NSW</td>\n",
       "      <td>4 cyl</td>\n",
       "      <td>Hatchback</td>\n",
       "      <td>5 Doors</td>\n",
       "      <td>5 Seats</td>\n",
       "      <td>19990</td>\n",
       "    </tr>\n",
       "    <tr>\n",
       "      <th>2</th>\n",
       "      <td>BMW</td>\n",
       "      <td>2022.0</td>\n",
       "      <td>430I</td>\n",
       "      <td>Coupe</td>\n",
       "      <td>2022 BMW 430I M Sport</td>\n",
       "      <td>USED</td>\n",
       "      <td>Automatic</td>\n",
       "      <td>4 cyl, 2 L</td>\n",
       "      <td>Rear</td>\n",
       "      <td>Premium</td>\n",
       "      <td>6.6 L / 100 km</td>\n",
       "      <td>8472</td>\n",
       "      <td>Grey / White</td>\n",
       "      <td>Sylvania, NSW</td>\n",
       "      <td>4 cyl</td>\n",
       "      <td>Coupe</td>\n",
       "      <td>2 Doors</td>\n",
       "      <td>4 Seats</td>\n",
       "      <td>108988</td>\n",
       "    </tr>\n",
       "    <tr>\n",
       "      <th>3</th>\n",
       "      <td>Mercedes-Benz</td>\n",
       "      <td>2011.0</td>\n",
       "      <td>E500</td>\n",
       "      <td>Coupe</td>\n",
       "      <td>2011 Mercedes-Benz E500 Elegance</td>\n",
       "      <td>USED</td>\n",
       "      <td>Automatic</td>\n",
       "      <td>8 cyl, 5.5 L</td>\n",
       "      <td>Rear</td>\n",
       "      <td>Premium</td>\n",
       "      <td>11 L / 100 km</td>\n",
       "      <td>136517</td>\n",
       "      <td>White / Brown</td>\n",
       "      <td>Mount Druitt, NSW</td>\n",
       "      <td>8 cyl</td>\n",
       "      <td>Coupe</td>\n",
       "      <td>2 Doors</td>\n",
       "      <td>4 Seats</td>\n",
       "      <td>32990</td>\n",
       "    </tr>\n",
       "    <tr>\n",
       "      <th>4</th>\n",
       "      <td>Renault</td>\n",
       "      <td>2022.0</td>\n",
       "      <td>Arkana</td>\n",
       "      <td>SUV</td>\n",
       "      <td>2022 Renault Arkana Intens</td>\n",
       "      <td>USED</td>\n",
       "      <td>Automatic</td>\n",
       "      <td>4 cyl, 1.3 L</td>\n",
       "      <td>Front</td>\n",
       "      <td>Unleaded</td>\n",
       "      <td>6 L / 100 km</td>\n",
       "      <td>1035</td>\n",
       "      <td>Grey / Black</td>\n",
       "      <td>Castle Hill, NSW</td>\n",
       "      <td>4 cyl</td>\n",
       "      <td>SUV</td>\n",
       "      <td>4 Doors</td>\n",
       "      <td>5 Seats</td>\n",
       "      <td>34990</td>\n",
       "    </tr>\n",
       "    <tr>\n",
       "      <th>...</th>\n",
       "      <td>...</td>\n",
       "      <td>...</td>\n",
       "      <td>...</td>\n",
       "      <td>...</td>\n",
       "      <td>...</td>\n",
       "      <td>...</td>\n",
       "      <td>...</td>\n",
       "      <td>...</td>\n",
       "      <td>...</td>\n",
       "      <td>...</td>\n",
       "      <td>...</td>\n",
       "      <td>...</td>\n",
       "      <td>...</td>\n",
       "      <td>...</td>\n",
       "      <td>...</td>\n",
       "      <td>...</td>\n",
       "      <td>...</td>\n",
       "      <td>...</td>\n",
       "      <td>...</td>\n",
       "    </tr>\n",
       "    <tr>\n",
       "      <th>16729</th>\n",
       "      <td>Toyota</td>\n",
       "      <td>2014.0</td>\n",
       "      <td>Alphard</td>\n",
       "      <td>SYC Cars</td>\n",
       "      <td>2014 Toyota Alphard</td>\n",
       "      <td>USED</td>\n",
       "      <td>Automatic</td>\n",
       "      <td>-</td>\n",
       "      <td>Front</td>\n",
       "      <td>Unleaded</td>\n",
       "      <td>-</td>\n",
       "      <td>66000</td>\n",
       "      <td>Grey / -</td>\n",
       "      <td>Rocklea, QLD</td>\n",
       "      <td>-</td>\n",
       "      <td>Commercial</td>\n",
       "      <td>7 Seats</td>\n",
       "      <td>NaN</td>\n",
       "      <td>29500</td>\n",
       "    </tr>\n",
       "    <tr>\n",
       "      <th>16730</th>\n",
       "      <td>Mercedes-Benz</td>\n",
       "      <td>2012.0</td>\n",
       "      <td>S-Class</td>\n",
       "      <td>USED Dealer ad</td>\n",
       "      <td>2012 Mercedes-Benz S-Class CDI BlueTEC</td>\n",
       "      <td>USED</td>\n",
       "      <td>Automatic</td>\n",
       "      <td>-</td>\n",
       "      <td>Rear</td>\n",
       "      <td>Diesel</td>\n",
       "      <td>-</td>\n",
       "      <td>117432</td>\n",
       "      <td>Silver / -</td>\n",
       "      <td>Port Melbourne, VIC</td>\n",
       "      <td>-</td>\n",
       "      <td>NaN</td>\n",
       "      <td>NaN</td>\n",
       "      <td>NaN</td>\n",
       "      <td>39888</td>\n",
       "    </tr>\n",
       "    <tr>\n",
       "      <th>16731</th>\n",
       "      <td>Suzuki</td>\n",
       "      <td>2022.0</td>\n",
       "      <td>Vitara</td>\n",
       "      <td>Bremer Suzuki - New</td>\n",
       "      <td>2022 Suzuki Vitara 1.6L</td>\n",
       "      <td>DEMO</td>\n",
       "      <td>Automatic</td>\n",
       "      <td>4 cyl, 1.6 L</td>\n",
       "      <td>Front</td>\n",
       "      <td>Unleaded</td>\n",
       "      <td>6.2 L / 100 km</td>\n",
       "      <td>5165</td>\n",
       "      <td>Yellow / -</td>\n",
       "      <td>Dinmore, QLD</td>\n",
       "      <td>4 cyl</td>\n",
       "      <td>SUV</td>\n",
       "      <td>4 Doors</td>\n",
       "      <td>5 Seats</td>\n",
       "      <td>35280</td>\n",
       "    </tr>\n",
       "    <tr>\n",
       "      <th>16732</th>\n",
       "      <td>Mercedes-Benz</td>\n",
       "      <td>2016.0</td>\n",
       "      <td>GLC250</td>\n",
       "      <td>SUV</td>\n",
       "      <td>2016 Mercedes-Benz GLC250</td>\n",
       "      <td>USED</td>\n",
       "      <td>Automatic</td>\n",
       "      <td>4 cyl, 2 L</td>\n",
       "      <td>AWD</td>\n",
       "      <td>Premium</td>\n",
       "      <td>7.2 L / 100 km</td>\n",
       "      <td>85525</td>\n",
       "      <td>Grey / Black</td>\n",
       "      <td>Albion, QLD</td>\n",
       "      <td>4 cyl</td>\n",
       "      <td>SUV</td>\n",
       "      <td>4 Doors</td>\n",
       "      <td>5 Seats</td>\n",
       "      <td>41888</td>\n",
       "    </tr>\n",
       "    <tr>\n",
       "      <th>16733</th>\n",
       "      <td>Mercedes-Benz</td>\n",
       "      <td>2021.0</td>\n",
       "      <td>C200</td>\n",
       "      <td>Sedan</td>\n",
       "      <td>2021 Mercedes-Benz C200</td>\n",
       "      <td>USED</td>\n",
       "      <td>Automatic</td>\n",
       "      <td>4 cyl, 2 L</td>\n",
       "      <td>Rear</td>\n",
       "      <td>Unleaded</td>\n",
       "      <td>7 L / 100 km</td>\n",
       "      <td>31852</td>\n",
       "      <td>Gold / -</td>\n",
       "      <td>Yatala, QLD</td>\n",
       "      <td>4 cyl</td>\n",
       "      <td>Sedan</td>\n",
       "      <td>4 Doors</td>\n",
       "      <td>5 Seats</td>\n",
       "      <td>65888</td>\n",
       "    </tr>\n",
       "  </tbody>\n",
       "</table>\n",
       "<p>16734 rows × 19 columns</p>\n",
       "</div>"
      ],
      "text/plain": [
       "               Brand    Year    Model               Car/Suv  \\\n",
       "0          Ssangyong  2022.0   Rexton  Sutherland Isuzu Ute   \n",
       "1                 MG  2022.0      MG3             Hatchback   \n",
       "2                BMW  2022.0     430I                 Coupe   \n",
       "3      Mercedes-Benz  2011.0     E500                 Coupe   \n",
       "4            Renault  2022.0   Arkana                   SUV   \n",
       "...              ...     ...      ...                   ...   \n",
       "16729         Toyota  2014.0  Alphard              SYC Cars   \n",
       "16730  Mercedes-Benz  2012.0  S-Class        USED Dealer ad   \n",
       "16731         Suzuki  2022.0   Vitara   Bremer Suzuki - New   \n",
       "16732  Mercedes-Benz  2016.0   GLC250                   SUV   \n",
       "16733  Mercedes-Benz  2021.0     C200                 Sedan   \n",
       "\n",
       "                                           Title UsedOrNew Transmission  \\\n",
       "0           2022 Ssangyong Rexton Ultimate (awd)      DEMO    Automatic   \n",
       "1      2022 MG MG3 Auto Excite (with Navigation)      USED    Automatic   \n",
       "2                          2022 BMW 430I M Sport      USED    Automatic   \n",
       "3               2011 Mercedes-Benz E500 Elegance      USED    Automatic   \n",
       "4                     2022 Renault Arkana Intens      USED    Automatic   \n",
       "...                                          ...       ...          ...   \n",
       "16729                        2014 Toyota Alphard      USED    Automatic   \n",
       "16730     2012 Mercedes-Benz S-Class CDI BlueTEC      USED    Automatic   \n",
       "16731                    2022 Suzuki Vitara 1.6L      DEMO    Automatic   \n",
       "16732                  2016 Mercedes-Benz GLC250      USED    Automatic   \n",
       "16733                    2021 Mercedes-Benz C200      USED    Automatic   \n",
       "\n",
       "             Engine DriveType  FuelType FuelConsumption Kilometres  \\\n",
       "0      4 cyl, 2.2 L       AWD    Diesel  8.7 L / 100 km       5595   \n",
       "1      4 cyl, 1.5 L     Front   Premium  6.7 L / 100 km         16   \n",
       "2        4 cyl, 2 L      Rear   Premium  6.6 L / 100 km       8472   \n",
       "3      8 cyl, 5.5 L      Rear   Premium   11 L / 100 km     136517   \n",
       "4      4 cyl, 1.3 L     Front  Unleaded    6 L / 100 km       1035   \n",
       "...             ...       ...       ...             ...        ...   \n",
       "16729             -     Front  Unleaded               -      66000   \n",
       "16730             -      Rear    Diesel               -     117432   \n",
       "16731  4 cyl, 1.6 L     Front  Unleaded  6.2 L / 100 km       5165   \n",
       "16732    4 cyl, 2 L       AWD   Premium  7.2 L / 100 km      85525   \n",
       "16733    4 cyl, 2 L      Rear  Unleaded    7 L / 100 km      31852   \n",
       "\n",
       "        ColourExtInt             Location CylindersinEngine    BodyType  \\\n",
       "0      White / Black       Caringbah, NSW             4 cyl         SUV   \n",
       "1      Black / Black       Brookvale, NSW             4 cyl   Hatchback   \n",
       "2       Grey / White        Sylvania, NSW             4 cyl       Coupe   \n",
       "3      White / Brown    Mount Druitt, NSW             8 cyl       Coupe   \n",
       "4       Grey / Black     Castle Hill, NSW             4 cyl         SUV   \n",
       "...              ...                  ...               ...         ...   \n",
       "16729       Grey / -         Rocklea, QLD                 -  Commercial   \n",
       "16730     Silver / -  Port Melbourne, VIC                 -         NaN   \n",
       "16731     Yellow / -         Dinmore, QLD             4 cyl         SUV   \n",
       "16732   Grey / Black          Albion, QLD             4 cyl         SUV   \n",
       "16733       Gold / -          Yatala, QLD             4 cyl       Sedan   \n",
       "\n",
       "          Doors     Seats   Price  \n",
       "0       4 Doors   7 Seats   51990  \n",
       "1       5 Doors   5 Seats   19990  \n",
       "2       2 Doors   4 Seats  108988  \n",
       "3       2 Doors   4 Seats   32990  \n",
       "4       4 Doors   5 Seats   34990  \n",
       "...         ...       ...     ...  \n",
       "16729   7 Seats       NaN   29500  \n",
       "16730       NaN       NaN   39888  \n",
       "16731   4 Doors   5 Seats   35280  \n",
       "16732   4 Doors   5 Seats   41888  \n",
       "16733   4 Doors   5 Seats   65888  \n",
       "\n",
       "[16734 rows x 19 columns]"
      ]
     },
     "execution_count": 92,
     "metadata": {},
     "output_type": "execute_result"
    }
   ],
   "source": [
    "path = r'C:\\Users\\USER\\Desktop\\Cube\\Data_Science\\Project\\Austrailian-car-sales'\n",
    "os.chdir(path)\n",
    "df = pd.read_csv('Australian-Vehicle-Prices.csv')\n",
    "df"
   ]
  },
  {
   "cell_type": "code",
   "execution_count": 93,
   "id": "70bd614f",
   "metadata": {},
   "outputs": [
    {
     "name": "stdout",
     "output_type": "stream",
     "text": [
      "<class 'pandas.core.frame.DataFrame'>\n",
      "RangeIndex: 16734 entries, 0 to 16733\n",
      "Data columns (total 19 columns):\n",
      " #   Column             Non-Null Count  Dtype  \n",
      "---  ------             --------------  -----  \n",
      " 0   Brand              16733 non-null  object \n",
      " 1   Year               16733 non-null  float64\n",
      " 2   Model              16733 non-null  object \n",
      " 3   Car/Suv            16706 non-null  object \n",
      " 4   Title              16733 non-null  object \n",
      " 5   UsedOrNew          16733 non-null  object \n",
      " 6   Transmission       16733 non-null  object \n",
      " 7   Engine             16733 non-null  object \n",
      " 8   DriveType          16733 non-null  object \n",
      " 9   FuelType           16733 non-null  object \n",
      " 10  FuelConsumption    16733 non-null  object \n",
      " 11  Kilometres         16733 non-null  object \n",
      " 12  ColourExtInt       16733 non-null  object \n",
      " 13  Location           16284 non-null  object \n",
      " 14  CylindersinEngine  16733 non-null  object \n",
      " 15  BodyType           16452 non-null  object \n",
      " 16  Doors              15130 non-null  object \n",
      " 17  Seats              15029 non-null  object \n",
      " 18  Price              16731 non-null  object \n",
      "dtypes: float64(1), object(18)\n",
      "memory usage: 2.4+ MB\n"
     ]
    }
   ],
   "source": [
    "df.info()"
   ]
  },
  {
   "cell_type": "code",
   "execution_count": 94,
   "id": "cba2fba3",
   "metadata": {},
   "outputs": [
    {
     "data": {
      "text/plain": [
       "Index(['Brand', 'Year', 'Model', 'Car/Suv', 'Title', 'UsedOrNew',\n",
       "       'Transmission', 'Engine', 'DriveType', 'FuelType', 'FuelConsumption',\n",
       "       'Kilometres', 'ColourExtInt', 'Location', 'CylindersinEngine',\n",
       "       'BodyType', 'Doors', 'Seats', 'Price'],\n",
       "      dtype='object')"
      ]
     },
     "execution_count": 94,
     "metadata": {},
     "output_type": "execute_result"
    }
   ],
   "source": [
    "df.columns"
   ]
  },
  {
   "cell_type": "code",
   "execution_count": 95,
   "id": "d21f27c7",
   "metadata": {},
   "outputs": [
    {
     "data": {
      "text/plain": [
       "Brand                   1\n",
       "Year                    1\n",
       "Model                   1\n",
       "Car/Suv                28\n",
       "Title                   1\n",
       "UsedOrNew               1\n",
       "Transmission            1\n",
       "Engine                  1\n",
       "DriveType               1\n",
       "FuelType                1\n",
       "FuelConsumption         1\n",
       "Kilometres              1\n",
       "ColourExtInt            1\n",
       "Location              450\n",
       "CylindersinEngine       1\n",
       "BodyType              282\n",
       "Doors                1604\n",
       "Seats                1705\n",
       "Price                   3\n",
       "dtype: int64"
      ]
     },
     "execution_count": 95,
     "metadata": {},
     "output_type": "execute_result"
    }
   ],
   "source": [
    "df.isnull().sum()"
   ]
  },
  {
   "cell_type": "code",
   "execution_count": 96,
   "id": "87a72ac7",
   "metadata": {},
   "outputs": [
    {
     "data": {
      "text/html": [
       "<div>\n",
       "<style scoped>\n",
       "    .dataframe tbody tr th:only-of-type {\n",
       "        vertical-align: middle;\n",
       "    }\n",
       "\n",
       "    .dataframe tbody tr th {\n",
       "        vertical-align: top;\n",
       "    }\n",
       "\n",
       "    .dataframe thead th {\n",
       "        text-align: right;\n",
       "    }\n",
       "</style>\n",
       "<table border=\"1\" class=\"dataframe\">\n",
       "  <thead>\n",
       "    <tr style=\"text-align: right;\">\n",
       "      <th></th>\n",
       "      <th>Year</th>\n",
       "    </tr>\n",
       "  </thead>\n",
       "  <tbody>\n",
       "    <tr>\n",
       "      <th>count</th>\n",
       "      <td>16733.000000</td>\n",
       "    </tr>\n",
       "    <tr>\n",
       "      <th>mean</th>\n",
       "      <td>2016.229248</td>\n",
       "    </tr>\n",
       "    <tr>\n",
       "      <th>std</th>\n",
       "      <td>5.247705</td>\n",
       "    </tr>\n",
       "    <tr>\n",
       "      <th>min</th>\n",
       "      <td>1940.000000</td>\n",
       "    </tr>\n",
       "    <tr>\n",
       "      <th>25%</th>\n",
       "      <td>2013.000000</td>\n",
       "    </tr>\n",
       "    <tr>\n",
       "      <th>50%</th>\n",
       "      <td>2017.000000</td>\n",
       "    </tr>\n",
       "    <tr>\n",
       "      <th>75%</th>\n",
       "      <td>2020.000000</td>\n",
       "    </tr>\n",
       "    <tr>\n",
       "      <th>max</th>\n",
       "      <td>2023.000000</td>\n",
       "    </tr>\n",
       "  </tbody>\n",
       "</table>\n",
       "</div>"
      ],
      "text/plain": [
       "               Year\n",
       "count  16733.000000\n",
       "mean    2016.229248\n",
       "std        5.247705\n",
       "min     1940.000000\n",
       "25%     2013.000000\n",
       "50%     2017.000000\n",
       "75%     2020.000000\n",
       "max     2023.000000"
      ]
     },
     "execution_count": 96,
     "metadata": {},
     "output_type": "execute_result"
    }
   ],
   "source": [
    "df.describe()"
   ]
  },
  {
   "cell_type": "code",
   "execution_count": 97,
   "id": "9550945d",
   "metadata": {},
   "outputs": [
    {
     "data": {
      "text/plain": [
       "np.int64(0)"
      ]
     },
     "execution_count": 97,
     "metadata": {},
     "output_type": "execute_result"
    }
   ],
   "source": [
    "df.duplicated().sum()\n",
    "#No duplicates in the dataset"
   ]
  },
  {
   "cell_type": "code",
   "execution_count": 98,
   "id": "091845ef",
   "metadata": {},
   "outputs": [
    {
     "name": "stdout",
     "output_type": "stream",
     "text": [
      "Brand\n",
      "Toyota      2784\n",
      "Hyundai     1239\n",
      "Mazda       1179\n",
      "Holden      1087\n",
      "Ford        1055\n",
      "            ... \n",
      "Daewoo         1\n",
      "Tata           1\n",
      "Polestar       1\n",
      "Datsun         1\n",
      "Packard        1\n",
      "Name: count, Length: 76, dtype: int64\n",
      "Year\n",
      "2018.0    1599\n",
      "2019.0    1480\n",
      "2017.0    1350\n",
      "2022.0    1328\n",
      "2023.0    1319\n",
      "2020.0    1135\n",
      "2016.0    1124\n",
      "2021.0    1098\n",
      "2015.0    1083\n",
      "2014.0     876\n",
      "2013.0     851\n",
      "2012.0     696\n",
      "2011.0     519\n",
      "2010.0     454\n",
      "2009.0     378\n",
      "2008.0     325\n",
      "2007.0     270\n",
      "2006.0     220\n",
      "2005.0     173\n",
      "2004.0     117\n",
      "2003.0      74\n",
      "2002.0      64\n",
      "2000.0      44\n",
      "2001.0      37\n",
      "1998.0      30\n",
      "1999.0      29\n",
      "1997.0       9\n",
      "1994.0       9\n",
      "1996.0       8\n",
      "1993.0       7\n",
      "1989.0       5\n",
      "1990.0       5\n",
      "1995.0       2\n",
      "1985.0       2\n",
      "1992.0       2\n",
      "1981.0       2\n",
      "1986.0       1\n",
      "1991.0       1\n",
      "1959.0       1\n",
      "1970.0       1\n",
      "1984.0       1\n",
      "1975.0       1\n",
      "1979.0       1\n",
      "1978.0       1\n",
      "1940.0       1\n",
      "Name: count, dtype: int64\n",
      "Model\n",
      "Hilux          430\n",
      "Corolla        405\n",
      "Ranger         398\n",
      "Landcruiser    370\n",
      "I30            366\n",
      "              ... \n",
      "Sierra           1\n",
      "300ZX            1\n",
      "SL500            1\n",
      "Midget           1\n",
      "A170             1\n",
      "Name: count, Length: 781, dtype: int64\n",
      "DriveType\n",
      "Front    6978\n",
      "4WD      3143\n",
      "AWD      3113\n",
      "Rear     2350\n",
      "Other    1149\n",
      "Name: count, dtype: int64\n",
      "Location\n",
      "Minchinbury, NSW         544\n",
      "Blacktown, NSW           295\n",
      "Liverpool, NSW           254\n",
      "Hoppers Crossing, VIC    227\n",
      "Ringwood, VIC            215\n",
      "                        ... \n",
      "West Lakes, SA             1\n",
      "Inverell, NSW              1\n",
      "Wongan Hills, WA           1\n",
      "Beaudesert, QLD            1\n",
      "East Toowoomba, QLD        1\n",
      "Name: count, Length: 618, dtype: int64\n",
      "UsedOrNew\n",
      "USED    14994\n",
      "NEW      1227\n",
      "DEMO      512\n",
      "Name: count, dtype: int64\n"
     ]
    }
   ],
   "source": [
    "print(df['Brand'].value_counts())\n",
    "print(df['Year'].value_counts())\n",
    "print(df['Model'].value_counts())\n",
    "print(df['DriveType'].value_counts())\n",
    "print(df['Location'].value_counts())\n",
    "print(df['UsedOrNew'].value_counts())"
   ]
  },
  {
   "cell_type": "markdown",
   "id": "7197173d",
   "metadata": {},
   "source": [
    "### 🔧 Brand Frequency (`Brand`)\n",
    "- **Top Brands:**\n",
    "  - Toyota: 2,784\n",
    "  - Hyundai: 1,239\n",
    "- **Total Unique Brands:** 76  \n",
    "- **Rare Brands:** Daewoo, Tata, Polestar, Datsun, Packard (each with 1 listing)\n",
    "\n",
    "### 📆 Year of Manufacture (`Year`)\n",
    "- **Most Common Years:**  \n",
    "  - 2018 (1,599), 2019 (1,480), 2017 (1,350), 2022 (1,328), 2023 (1,319)\n",
    "- **Trend:** Majority of vehicles listed are from 2015–2023.\n",
    "- **Oldest Vehicle Year:** 1940 (1 listing)\n",
    "\n",
    "### 🚘 Car Model (`Model`)\n",
    "- **Most Frequent Models:**  \n",
    "  - Hilux (430), Corolla (405), Ranger (398), Landcruiser (370), I30 (366)\n",
    "- **Total Unique Models:** 781  \n",
    "- **High model diversity** across the dataset.\n",
    "\n",
    "### 🚗 Drive Type (`DriveType`)\n",
    "- **Distribution:**\n",
    "  - Front: 6,978\n",
    "  - 4WD: 3,143\n",
    "  - AWD: 3,113\n",
    "  - Rear: 2,350\n",
    "  - Other: 1,149\n",
    "\n",
    "### 📍 Location (`Location`)\n",
    "- **Top Locations (most listings):**\n",
    "  - Minchinbury, NSW: 544\n",
    "  - Blacktown, NSW: 295\n",
    "  - Liverpool, NSW: 254\n",
    "- **Total Unique Locations:** 618  \n",
    "\n",
    "### 🏷️ Vehicle Condition (`UsedOrNew`)\n",
    "- **USED:** 14,994\n",
    "- **NEW:** 1,227\n",
    "- **DEMO:** 512\n",
    "- **Observation:** Used cars dominate the market (~85% of listings)."
   ]
  },
  {
   "cell_type": "markdown",
   "id": "f084c16f",
   "metadata": {},
   "source": [
    "# 3.Data cleaning\n",
    "This is dropping unnecessary columns and imputing values using mean,median and mode"
   ]
  },
  {
   "cell_type": "code",
   "execution_count": 99,
   "id": "600a2483",
   "metadata": {},
   "outputs": [
    {
     "data": {
      "text/plain": [
       "Brand                   1\n",
       "Year                    1\n",
       "Model                   1\n",
       "Car/Suv                28\n",
       "Title                   1\n",
       "UsedOrNew               1\n",
       "Transmission            1\n",
       "Engine                  1\n",
       "DriveType               1\n",
       "FuelType                1\n",
       "FuelConsumption         1\n",
       "Kilometres              1\n",
       "ColourExtInt            1\n",
       "Location              450\n",
       "CylindersinEngine       1\n",
       "BodyType              282\n",
       "Doors                1604\n",
       "Seats                1705\n",
       "Price                   3\n",
       "dtype: int64"
      ]
     },
     "execution_count": 99,
     "metadata": {},
     "output_type": "execute_result"
    }
   ],
   "source": [
    "df.isnull().sum()"
   ]
  },
  {
   "cell_type": "code",
   "execution_count": 100,
   "id": "534f2883",
   "metadata": {},
   "outputs": [
    {
     "data": {
      "text/plain": [
       "Brand                 0.005976\n",
       "Year                  0.005976\n",
       "Model                 0.005976\n",
       "Car/Suv               0.167324\n",
       "Title                 0.005976\n",
       "UsedOrNew             0.005976\n",
       "Transmission          0.005976\n",
       "Engine                0.005976\n",
       "DriveType             0.005976\n",
       "FuelType              0.005976\n",
       "FuelConsumption       0.005976\n",
       "Kilometres            0.005976\n",
       "ColourExtInt          0.005976\n",
       "Location              2.689136\n",
       "CylindersinEngine     0.005976\n",
       "BodyType              1.685192\n",
       "Doors                 9.585275\n",
       "Seats                10.188837\n",
       "Price                 0.017928\n",
       "dtype: float64"
      ]
     },
     "execution_count": 100,
     "metadata": {},
     "output_type": "execute_result"
    }
   ],
   "source": [
    "df.isnull().sum()/df.isnull().count().sort_values()*100 \n",
    "#Getting the missing values per coulmn in percentages"
   ]
  },
  {
   "cell_type": "code",
   "execution_count": 101,
   "id": "49ac4108",
   "metadata": {},
   "outputs": [],
   "source": [
    "#Dropping unnecessary columns\n",
    "df.drop(columns=['Car/Suv','Title', 'Doors'],inplace=True)\n",
    "# Car/Suv column is not useful for our analysis as it is a duplicate of the Body Type column\n",
    "# Title column is not useful for our analysis as it has been extacted into Brand, Year and Model columns\n",
    "# Doors column is not useful for our analysis as Seats column is more informative about the car's capacity"
   ]
  },
  {
   "cell_type": "code",
   "execution_count": 102,
   "id": "fd7736bf",
   "metadata": {},
   "outputs": [
    {
     "data": {
      "text/plain": [
       "Index(['Brand', 'Year', 'Model', 'UsedOrNew', 'Transmission', 'Engine',\n",
       "       'DriveType', 'FuelType', 'FuelConsumption', 'Kilometres',\n",
       "       'ColourExtInt', 'Location', 'CylindersinEngine', 'BodyType', 'Seats',\n",
       "       'Price'],\n",
       "      dtype='object')"
      ]
     },
     "execution_count": 102,
     "metadata": {},
     "output_type": "execute_result"
    }
   ],
   "source": [
    "df.keys()"
   ]
  },
  {
   "cell_type": "code",
   "execution_count": 103,
   "id": "2b8cdce0",
   "metadata": {},
   "outputs": [
    {
     "data": {
      "text/html": [
       "<div>\n",
       "<style scoped>\n",
       "    .dataframe tbody tr th:only-of-type {\n",
       "        vertical-align: middle;\n",
       "    }\n",
       "\n",
       "    .dataframe tbody tr th {\n",
       "        vertical-align: top;\n",
       "    }\n",
       "\n",
       "    .dataframe thead th {\n",
       "        text-align: right;\n",
       "    }\n",
       "</style>\n",
       "<table border=\"1\" class=\"dataframe\">\n",
       "  <thead>\n",
       "    <tr style=\"text-align: right;\">\n",
       "      <th></th>\n",
       "      <th>Brand</th>\n",
       "      <th>Year</th>\n",
       "      <th>Model</th>\n",
       "      <th>UsedOrNew</th>\n",
       "      <th>Transmission</th>\n",
       "      <th>Engine</th>\n",
       "      <th>DriveType</th>\n",
       "      <th>FuelType</th>\n",
       "      <th>FuelConsumption</th>\n",
       "      <th>Kilometres</th>\n",
       "      <th>ColourExtInt</th>\n",
       "      <th>Location</th>\n",
       "      <th>CylindersinEngine</th>\n",
       "      <th>BodyType</th>\n",
       "      <th>Seats</th>\n",
       "      <th>Price</th>\n",
       "    </tr>\n",
       "  </thead>\n",
       "  <tbody>\n",
       "    <tr>\n",
       "      <th>10660</th>\n",
       "      <td>MG</td>\n",
       "      <td>2023.0</td>\n",
       "      <td>MG3</td>\n",
       "      <td>NEW</td>\n",
       "      <td>Automatic</td>\n",
       "      <td>4 cyl, 1.5 L</td>\n",
       "      <td>Front</td>\n",
       "      <td>-</td>\n",
       "      <td>6.7 L / 100 km</td>\n",
       "      <td>-</td>\n",
       "      <td>Black / -</td>\n",
       "      <td>Springwood, QLD</td>\n",
       "      <td>4 cyl</td>\n",
       "      <td>Hatchback</td>\n",
       "      <td>5 Seats</td>\n",
       "      <td>20990</td>\n",
       "    </tr>\n",
       "    <tr>\n",
       "      <th>12667</th>\n",
       "      <td>Kia</td>\n",
       "      <td>2012.0</td>\n",
       "      <td>Grand</td>\n",
       "      <td>USED</td>\n",
       "      <td>Automatic</td>\n",
       "      <td>6 cyl, 3.5 L</td>\n",
       "      <td>Front</td>\n",
       "      <td>Unleaded</td>\n",
       "      <td>10.9 L / 100 km</td>\n",
       "      <td>266950</td>\n",
       "      <td>Black / -</td>\n",
       "      <td>Warrnambool, VIC</td>\n",
       "      <td>6 cyl</td>\n",
       "      <td>Wagon</td>\n",
       "      <td>8 Seats</td>\n",
       "      <td>10990</td>\n",
       "    </tr>\n",
       "    <tr>\n",
       "      <th>11011</th>\n",
       "      <td>Mazda</td>\n",
       "      <td>2017.0</td>\n",
       "      <td>3</td>\n",
       "      <td>USED</td>\n",
       "      <td>Manual</td>\n",
       "      <td>4 cyl, 2 L</td>\n",
       "      <td>Front</td>\n",
       "      <td>Unleaded</td>\n",
       "      <td>5.9 L / 100 km</td>\n",
       "      <td>39655</td>\n",
       "      <td>Silver / Black</td>\n",
       "      <td>Hoppers Crossing, VIC</td>\n",
       "      <td>4 cyl</td>\n",
       "      <td>Hatchback</td>\n",
       "      <td>5 Seats</td>\n",
       "      <td>20990</td>\n",
       "    </tr>\n",
       "    <tr>\n",
       "      <th>9599</th>\n",
       "      <td>Subaru</td>\n",
       "      <td>2019.0</td>\n",
       "      <td>Forester</td>\n",
       "      <td>USED</td>\n",
       "      <td>Automatic</td>\n",
       "      <td>4 cyl, 2.5 L</td>\n",
       "      <td>AWD</td>\n",
       "      <td>Unleaded</td>\n",
       "      <td>7.4 L / 100 km</td>\n",
       "      <td>36125</td>\n",
       "      <td>Silver / Black</td>\n",
       "      <td>Brooklyn, VIC</td>\n",
       "      <td>4 cyl</td>\n",
       "      <td>SUV</td>\n",
       "      <td>5 Seats</td>\n",
       "      <td>36987</td>\n",
       "    </tr>\n",
       "    <tr>\n",
       "      <th>12717</th>\n",
       "      <td>Mazda</td>\n",
       "      <td>2022.0</td>\n",
       "      <td>3</td>\n",
       "      <td>USED</td>\n",
       "      <td>Automatic</td>\n",
       "      <td>4 cyl, 2.5 L</td>\n",
       "      <td>Front</td>\n",
       "      <td>Unleaded</td>\n",
       "      <td>6.5 L / 100 km</td>\n",
       "      <td>5208</td>\n",
       "      <td>White / Black</td>\n",
       "      <td>Palmyra, WA</td>\n",
       "      <td>4 cyl</td>\n",
       "      <td>Sedan</td>\n",
       "      <td>5 Seats</td>\n",
       "      <td>41990</td>\n",
       "    </tr>\n",
       "  </tbody>\n",
       "</table>\n",
       "</div>"
      ],
      "text/plain": [
       "        Brand    Year     Model UsedOrNew Transmission        Engine  \\\n",
       "10660      MG  2023.0       MG3       NEW    Automatic  4 cyl, 1.5 L   \n",
       "12667     Kia  2012.0     Grand      USED    Automatic  6 cyl, 3.5 L   \n",
       "11011   Mazda  2017.0         3      USED       Manual    4 cyl, 2 L   \n",
       "9599   Subaru  2019.0  Forester      USED    Automatic  4 cyl, 2.5 L   \n",
       "12717   Mazda  2022.0         3      USED    Automatic  4 cyl, 2.5 L   \n",
       "\n",
       "      DriveType  FuelType  FuelConsumption Kilometres    ColourExtInt  \\\n",
       "10660     Front         -   6.7 L / 100 km          -       Black / -   \n",
       "12667     Front  Unleaded  10.9 L / 100 km     266950       Black / -   \n",
       "11011     Front  Unleaded   5.9 L / 100 km      39655  Silver / Black   \n",
       "9599        AWD  Unleaded   7.4 L / 100 km      36125  Silver / Black   \n",
       "12717     Front  Unleaded   6.5 L / 100 km       5208   White / Black   \n",
       "\n",
       "                    Location CylindersinEngine   BodyType     Seats  Price  \n",
       "10660        Springwood, QLD             4 cyl  Hatchback   5 Seats  20990  \n",
       "12667       Warrnambool, VIC             6 cyl      Wagon   8 Seats  10990  \n",
       "11011  Hoppers Crossing, VIC             4 cyl  Hatchback   5 Seats  20990  \n",
       "9599           Brooklyn, VIC             4 cyl        SUV   5 Seats  36987  \n",
       "12717            Palmyra, WA             4 cyl      Sedan   5 Seats  41990  "
      ]
     },
     "execution_count": 103,
     "metadata": {},
     "output_type": "execute_result"
    }
   ],
   "source": [
    "df.sample(5)"
   ]
  },
  {
   "cell_type": "markdown",
   "id": "48b80d96",
   "metadata": {},
   "source": [
    "# 3.1 Handling missing values"
   ]
  },
  {
   "cell_type": "code",
   "execution_count": 104,
   "id": "841125f0",
   "metadata": {},
   "outputs": [],
   "source": [
    "# Dropping the rows with missing values\n",
    "\n",
    "col_with_missing = ['Brand', 'Year', 'Model', 'CylindersinEngine', 'Transmission','Engine', 'DriveType','FuelType','FuelConsumption', 'UsedOrNew', 'ColourExtInt','Kilometres','Price', 'BodyType', 'Seats', 'Location']\n",
    "df = df.dropna(subset=col_with_missing, how='any')"
   ]
  },
  {
   "cell_type": "code",
   "execution_count": 105,
   "id": "073e0852",
   "metadata": {},
   "outputs": [
    {
     "data": {
      "text/plain": [
       "Brand                0\n",
       "Year                 0\n",
       "Model                0\n",
       "UsedOrNew            0\n",
       "Transmission         0\n",
       "Engine               0\n",
       "DriveType            0\n",
       "FuelType             0\n",
       "FuelConsumption      0\n",
       "Kilometres           0\n",
       "ColourExtInt         0\n",
       "Location             0\n",
       "CylindersinEngine    0\n",
       "BodyType             0\n",
       "Seats                0\n",
       "Price                0\n",
       "dtype: int64"
      ]
     },
     "execution_count": 105,
     "metadata": {},
     "output_type": "execute_result"
    }
   ],
   "source": [
    "df.isna().sum()"
   ]
  },
  {
   "cell_type": "markdown",
   "id": "387b1217",
   "metadata": {},
   "source": [
    "### Now our dataframe has no missing values "
   ]
  },
  {
   "cell_type": "markdown",
   "id": "159b9df9",
   "metadata": {},
   "source": [
    "# 3.2 Feature Engineering"
   ]
  },
  {
   "cell_type": "code",
   "execution_count": 106,
   "id": "f79e701d",
   "metadata": {},
   "outputs": [
    {
     "data": {
      "text/plain": [
       "0      NSW\n",
       "1      NSW\n",
       "2      NSW\n",
       "3      NSW\n",
       "4      NSW\n",
       "6      NSW\n",
       "7      NSW\n",
       "8      NSW\n",
       "9      NSW\n",
       "11     NSW\n",
       "Name: Location, dtype: object"
      ]
     },
     "execution_count": 106,
     "metadata": {},
     "output_type": "execute_result"
    }
   ],
   "source": [
    "# For the Location column, I want to split the alues in the colum to only have the state name\n",
    "df['Location'] = df['Location'].str.split(',').str[1]\n",
    "df['Location'].head(10)"
   ]
  },
  {
   "cell_type": "code",
   "execution_count": 107,
   "id": "c458b05a",
   "metadata": {},
   "outputs": [
    {
     "data": {
      "text/plain": [
       "Location\n",
       "NSW       5678\n",
       "VIC       3427\n",
       "QLD       2462\n",
       "WA        1629\n",
       "SA         762\n",
       "ACT        352\n",
       "TAS        203\n",
       "NT          72\n",
       "AU-VIC       1\n",
       "Name: count, dtype: int64"
      ]
     },
     "execution_count": 107,
     "metadata": {},
     "output_type": "execute_result"
    }
   ],
   "source": [
    "df['Location'].value_counts()"
   ]
  },
  {
   "cell_type": "code",
   "execution_count": 108,
   "id": "443cc5bc",
   "metadata": {},
   "outputs": [
    {
     "data": {
      "text/plain": [
       "CylindersinEngine\n",
       "4 cyl     11203\n",
       "6 cyl      1982\n",
       "8 cyl       585\n",
       "5 cyl       399\n",
       "3 cyl       309\n",
       "0 L          90\n",
       "12 cyl       11\n",
       "2 cyl         4\n",
       "10 cyl        3\n",
       "Name: count, dtype: int64"
      ]
     },
     "execution_count": 108,
     "metadata": {},
     "output_type": "execute_result"
    }
   ],
   "source": [
    "df['CylindersinEngine'].value_counts()"
   ]
  },
  {
   "cell_type": "code",
   "execution_count": 109,
   "id": "d0d29db0",
   "metadata": {},
   "outputs": [],
   "source": [
    "# Extracting the fuel consumption for every 100km from the FuelConsumption column\n",
    "df['FuelConsumption'] = df['FuelConsumption'].apply(lambda x: float(str(x).split()[0]))\n",
    "\n",
    "# Renaming the ule consumption column to FuelConsumptionPer100km\n",
    "df.rename(columns={'FuelConsumption': 'FuelConsumptionPer100km'}, inplace=True)"
   ]
  },
  {
   "cell_type": "code",
   "execution_count": 110,
   "id": "743d25e0",
   "metadata": {},
   "outputs": [],
   "source": [
    "#Extracting the engine size from the Engine column\n",
    "df['Engine'] = df['Engine'].str.split(',').str[1].str.strip()\n",
    "\n",
    "# Renaming the Engine column to EngineType\n",
    "df.rename(columns={'Engine': 'EngineSize'}, inplace=True)"
   ]
  },
  {
   "cell_type": "code",
   "execution_count": 111,
   "id": "1c703a59",
   "metadata": {},
   "outputs": [],
   "source": [
    "# Extracting the exterior color from the colourExtInt column since Int has some missing values\n",
    "df['ColourExtInt'] = df['ColourExtInt'].str.split('/').str[0].str.strip()\n",
    "\n",
    "# Renaming the ColourExtInt column to ExteriorColour\n",
    "df.rename(columns={'ColourExtInt': 'ExteriorColour'}, inplace=True)"
   ]
  },
  {
   "cell_type": "code",
   "execution_count": 116,
   "id": "9a341a82",
   "metadata": {},
   "outputs": [
    {
     "name": "stdout",
     "output_type": "stream",
     "text": [
      "<class 'pandas.core.frame.DataFrame'>\n",
      "Index: 14495 entries, 0 to 16733\n",
      "Data columns (total 16 columns):\n",
      " #   Column                   Non-Null Count  Dtype  \n",
      "---  ------                   --------------  -----  \n",
      " 0   Brand                    14495 non-null  object \n",
      " 1   Year                     14495 non-null  float64\n",
      " 2   Model                    14495 non-null  object \n",
      " 3   UsedOrNew                14495 non-null  object \n",
      " 4   Transmission             14495 non-null  object \n",
      " 5   EngineSize               14495 non-null  object \n",
      " 6   DriveType                14495 non-null  object \n",
      " 7   FuelType                 14495 non-null  object \n",
      " 8   FuelConsumptionPer100km  14495 non-null  float64\n",
      " 9   Kilometres               14495 non-null  object \n",
      " 10  ExteriorColour           14495 non-null  object \n",
      " 11  Location                 14495 non-null  object \n",
      " 12  CylindersinEngine        14495 non-null  object \n",
      " 13  BodyType                 14495 non-null  object \n",
      " 14  Seats                    14495 non-null  object \n",
      " 15  Price                    14495 non-null  object \n",
      "dtypes: float64(2), object(14)\n",
      "memory usage: 1.9+ MB\n"
     ]
    }
   ],
   "source": [
    "df.info()"
   ]
  },
  {
   "cell_type": "markdown",
   "id": "5b54f604",
   "metadata": {},
   "source": [
    "The engine size now has missing values which we will drop"
   ]
  },
  {
   "cell_type": "code",
   "execution_count": 115,
   "id": "09cf8676",
   "metadata": {},
   "outputs": [],
   "source": [
    "#Dropping null values in engine size\n",
    "df = df.dropna(subset=['EngineSize'], how='any')"
   ]
  },
  {
   "cell_type": "code",
   "execution_count": 119,
   "id": "410b3c3d",
   "metadata": {},
   "outputs": [
    {
     "data": {
      "text/html": [
       "<div>\n",
       "<style scoped>\n",
       "    .dataframe tbody tr th:only-of-type {\n",
       "        vertical-align: middle;\n",
       "    }\n",
       "\n",
       "    .dataframe tbody tr th {\n",
       "        vertical-align: top;\n",
       "    }\n",
       "\n",
       "    .dataframe thead th {\n",
       "        text-align: right;\n",
       "    }\n",
       "</style>\n",
       "<table border=\"1\" class=\"dataframe\">\n",
       "  <thead>\n",
       "    <tr style=\"text-align: right;\">\n",
       "      <th></th>\n",
       "      <th>Brand</th>\n",
       "      <th>Year</th>\n",
       "      <th>Model</th>\n",
       "      <th>UsedOrNew</th>\n",
       "      <th>Transmission</th>\n",
       "      <th>EngineSize</th>\n",
       "      <th>DriveType</th>\n",
       "      <th>FuelType</th>\n",
       "      <th>FuelConsumptionPer100km</th>\n",
       "      <th>Kilometres</th>\n",
       "      <th>ExteriorColour</th>\n",
       "      <th>Location</th>\n",
       "      <th>CylindersinEngine</th>\n",
       "      <th>BodyType</th>\n",
       "      <th>Seats</th>\n",
       "      <th>Price</th>\n",
       "    </tr>\n",
       "  </thead>\n",
       "  <tbody>\n",
       "    <tr>\n",
       "      <th>0</th>\n",
       "      <td>Ssangyong</td>\n",
       "      <td>2022.0</td>\n",
       "      <td>Rexton</td>\n",
       "      <td>DEMO</td>\n",
       "      <td>Automatic</td>\n",
       "      <td>2.2 L</td>\n",
       "      <td>AWD</td>\n",
       "      <td>Diesel</td>\n",
       "      <td>8.7</td>\n",
       "      <td>5595</td>\n",
       "      <td>White</td>\n",
       "      <td>NSW</td>\n",
       "      <td>4 cyl</td>\n",
       "      <td>SUV</td>\n",
       "      <td>7 Seats</td>\n",
       "      <td>51990</td>\n",
       "    </tr>\n",
       "    <tr>\n",
       "      <th>1</th>\n",
       "      <td>MG</td>\n",
       "      <td>2022.0</td>\n",
       "      <td>MG3</td>\n",
       "      <td>USED</td>\n",
       "      <td>Automatic</td>\n",
       "      <td>1.5 L</td>\n",
       "      <td>Front</td>\n",
       "      <td>Premium</td>\n",
       "      <td>6.7</td>\n",
       "      <td>16</td>\n",
       "      <td>Black</td>\n",
       "      <td>NSW</td>\n",
       "      <td>4 cyl</td>\n",
       "      <td>Hatchback</td>\n",
       "      <td>5 Seats</td>\n",
       "      <td>19990</td>\n",
       "    </tr>\n",
       "    <tr>\n",
       "      <th>2</th>\n",
       "      <td>BMW</td>\n",
       "      <td>2022.0</td>\n",
       "      <td>430I</td>\n",
       "      <td>USED</td>\n",
       "      <td>Automatic</td>\n",
       "      <td>2 L</td>\n",
       "      <td>Rear</td>\n",
       "      <td>Premium</td>\n",
       "      <td>6.6</td>\n",
       "      <td>8472</td>\n",
       "      <td>Grey</td>\n",
       "      <td>NSW</td>\n",
       "      <td>4 cyl</td>\n",
       "      <td>Coupe</td>\n",
       "      <td>4 Seats</td>\n",
       "      <td>108988</td>\n",
       "    </tr>\n",
       "    <tr>\n",
       "      <th>3</th>\n",
       "      <td>Mercedes-Benz</td>\n",
       "      <td>2011.0</td>\n",
       "      <td>E500</td>\n",
       "      <td>USED</td>\n",
       "      <td>Automatic</td>\n",
       "      <td>5.5 L</td>\n",
       "      <td>Rear</td>\n",
       "      <td>Premium</td>\n",
       "      <td>11.0</td>\n",
       "      <td>136517</td>\n",
       "      <td>White</td>\n",
       "      <td>NSW</td>\n",
       "      <td>8 cyl</td>\n",
       "      <td>Coupe</td>\n",
       "      <td>4 Seats</td>\n",
       "      <td>32990</td>\n",
       "    </tr>\n",
       "    <tr>\n",
       "      <th>4</th>\n",
       "      <td>Renault</td>\n",
       "      <td>2022.0</td>\n",
       "      <td>Arkana</td>\n",
       "      <td>USED</td>\n",
       "      <td>Automatic</td>\n",
       "      <td>1.3 L</td>\n",
       "      <td>Front</td>\n",
       "      <td>Unleaded</td>\n",
       "      <td>6.0</td>\n",
       "      <td>1035</td>\n",
       "      <td>Grey</td>\n",
       "      <td>NSW</td>\n",
       "      <td>4 cyl</td>\n",
       "      <td>SUV</td>\n",
       "      <td>5 Seats</td>\n",
       "      <td>34990</td>\n",
       "    </tr>\n",
       "  </tbody>\n",
       "</table>\n",
       "</div>"
      ],
      "text/plain": [
       "           Brand    Year   Model UsedOrNew Transmission EngineSize DriveType  \\\n",
       "0      Ssangyong  2022.0  Rexton      DEMO    Automatic      2.2 L       AWD   \n",
       "1             MG  2022.0     MG3      USED    Automatic      1.5 L     Front   \n",
       "2            BMW  2022.0    430I      USED    Automatic        2 L      Rear   \n",
       "3  Mercedes-Benz  2011.0    E500      USED    Automatic      5.5 L      Rear   \n",
       "4        Renault  2022.0  Arkana      USED    Automatic      1.3 L     Front   \n",
       "\n",
       "   FuelType  FuelConsumptionPer100km Kilometres ExteriorColour Location  \\\n",
       "0    Diesel                      8.7       5595          White      NSW   \n",
       "1   Premium                      6.7         16          Black      NSW   \n",
       "2   Premium                      6.6       8472           Grey      NSW   \n",
       "3   Premium                     11.0     136517          White      NSW   \n",
       "4  Unleaded                      6.0       1035           Grey      NSW   \n",
       "\n",
       "  CylindersinEngine   BodyType     Seats   Price  \n",
       "0             4 cyl        SUV   7 Seats   51990  \n",
       "1             4 cyl  Hatchback   5 Seats   19990  \n",
       "2             4 cyl      Coupe   4 Seats  108988  \n",
       "3             8 cyl      Coupe   4 Seats   32990  \n",
       "4             4 cyl        SUV   5 Seats   34990  "
      ]
     },
     "execution_count": 119,
     "metadata": {},
     "output_type": "execute_result"
    }
   ],
   "source": [
    "df.head(5)"
   ]
  },
  {
   "cell_type": "markdown",
   "id": "40aa0925",
   "metadata": {},
   "source": [
    "After extracting new features from columns and solving missing values we have a dataset with 14495 values"
   ]
  },
  {
   "cell_type": "code",
   "execution_count": 15,
   "id": "b2c51365",
   "metadata": {},
   "outputs": [
    {
     "name": "stdout",
     "output_type": "stream",
     "text": [
      "object\n"
     ]
    }
   ],
   "source": [
    "#converting the price column into numerics\n",
    "print(df['Price'].dtype)\n",
    "df['Price'] = pd.to_numeric(df['Price'].replace('[\\$,]', '', regex=True), errors='coerce')\n"
   ]
  },
  {
   "cell_type": "code",
   "execution_count": 16,
   "id": "778c9947",
   "metadata": {},
   "outputs": [
    {
     "name": "stdout",
     "output_type": "stream",
     "text": [
      "Average Price before imputation 29500.0\n",
      "Averange Price after imputation 29500.0\n"
     ]
    }
   ],
   "source": [
    "from sklearn.impute import SimpleImputer \n",
    "#Displaying current average price\n",
    "print('Average Price before imputation',df['Price'].median()) \n",
    "#Create a simple imputer for only the price column\n",
    "price_imputer=SimpleImputer(missing_values=np.nan,strategy='median')\n",
    "#Applying it to the price column\n",
    "df['Price'] = price_imputer.fit_transform(df[['Price']])\n",
    "print('Averange Price after imputation',df['Price'].median())"
   ]
  },
  {
   "cell_type": "code",
   "execution_count": 17,
   "id": "13f70048",
   "metadata": {},
   "outputs": [],
   "source": [
    "#Filling the null values\n",
    "df['Location']=df['Location'].fillna(df['Location'].mode()[0])\n",
    "df['Doors']=df['Doors'].fillna(df['Doors'].mode()[0])\n",
    "df['Seats']=df['Seats'].fillna(df['Seats'].mode()[0])\n"
   ]
  },
  {
   "cell_type": "code",
   "execution_count": 18,
   "id": "36babd8e",
   "metadata": {},
   "outputs": [],
   "source": [
    "df.dropna(inplace=True)"
   ]
  },
  {
   "cell_type": "code",
   "execution_count": null,
   "id": "88ff4090",
   "metadata": {},
   "outputs": [],
   "source": []
  },
  {
   "cell_type": "code",
   "execution_count": 19,
   "id": "c7e2faaa",
   "metadata": {},
   "outputs": [
    {
     "data": {
      "text/plain": [
       "Brand                0\n",
       "Year                 0\n",
       "Model                0\n",
       "UsedOrNew            0\n",
       "Transmission         0\n",
       "Engine               0\n",
       "DriveType            0\n",
       "FuelType             0\n",
       "FuelConsumption      0\n",
       "Kilometres           0\n",
       "ColourExtInt         0\n",
       "Location             0\n",
       "CylindersinEngine    0\n",
       "BodyType             0\n",
       "Doors                0\n",
       "Seats                0\n",
       "Price                0\n",
       "dtype: int64"
      ]
     },
     "execution_count": 19,
     "metadata": {},
     "output_type": "execute_result"
    }
   ],
   "source": [
    "df.isnull().sum()"
   ]
  },
  {
   "cell_type": "code",
   "execution_count": null,
   "id": "8ffa026b",
   "metadata": {},
   "outputs": [],
   "source": []
  },
  {
   "cell_type": "markdown",
   "id": "c57472f6",
   "metadata": {},
   "source": [
    "# 4.Data Visualization\n",
    "This is to make the data readable and easy to analyze."
   ]
  },
  {
   "cell_type": "code",
   "execution_count": 20,
   "id": "dfe13a31",
   "metadata": {},
   "outputs": [],
   "source": [
    "import matplotlib.pyplot as plt\n",
    "import seaborn as sns"
   ]
  },
  {
   "cell_type": "markdown",
   "id": "58fddc35",
   "metadata": {},
   "source": [
    "# The target column\n",
    "This tells us that most vehicles are in the range of 0 to 100000 Australian dollars."
   ]
  },
  {
   "cell_type": "code",
   "execution_count": 21,
   "id": "cd8209bd",
   "metadata": {},
   "outputs": [
    {
     "data": {
      "image/png": "[encoded data removed]",
      "text/plain": [
       "<Figure size 640x480 with 1 Axes>"
      ]
     },
     "metadata": {},
     "output_type": "display_data"
    }
   ],
   "source": [
    "import matplotlib.ticker as ticker\n",
    "sns.histplot(df['Price'], kde=True )\n",
    "plt.title(\"Distribution of Vehicle Prices\")\n",
    "plt.ticklabel_format(style='plain', axis='x')\n",
    "plt.grid(True)\n",
    "plt.xticks(rotation=90)\n",
    "plt.xticks()\n",
    "plt.show()\n"
   ]
  },
  {
   "cell_type": "markdown",
   "id": "58a95f3d",
   "metadata": {},
   "source": [
    "# Car price by the Brand"
   ]
  },
  {
   "cell_type": "code",
   "execution_count": 22,
   "id": "478835cb",
   "metadata": {},
   "outputs": [
    {
     "data": {
      "image/png": "[encoded data removed]",
      "text/plain": [
       "<Figure size 1400x1600 with 1 Axes>"
      ]
     },
     "metadata": {},
     "output_type": "display_data"
    }
   ],
   "source": [
    "plt.figure(figsize=(14,16))\n",
    "sns.barplot(x='Brand',y='Price',hue='Brand',data=df)\n",
    "plt.grid(True)\n",
    "plt.title('Car price by Brand')\n",
    "plt.xlabel('Brands')\n",
    "plt.ylabel('Price')\n",
    "plt.xticks(rotation=90)\n",
    "plt.show()"
   ]
  },
  {
   "cell_type": "markdown",
   "id": "74c8781b",
   "metadata": {},
   "source": [
    "# Car price by the year of manufacture"
   ]
  },
  {
   "cell_type": "code",
   "execution_count": 23,
   "id": "9044a11e",
   "metadata": {},
   "outputs": [
    {
     "data": {
      "image/png": "[encoded data removed]",
      "text/plain": [
       "<Figure size 1400x1600 with 1 Axes>"
      ]
     },
     "metadata": {},
     "output_type": "display_data"
    }
   ],
   "source": [
    "plt.figure(figsize=(14,16))\n",
    "sns.barplot(x='Year',y='Price',hue='Year',data=df)\n",
    "plt.grid(True)\n",
    "plt.title('Car price by YOM')\n",
    "plt.xlabel('Year')\n",
    "plt.ylabel('Price')\n",
    "plt.xticks(rotation=90)\n",
    "plt.show()"
   ]
  },
  {
   "cell_type": "code",
   "execution_count": 24,
   "id": "c56942d6",
   "metadata": {},
   "outputs": [
    {
     "ename": "TypeError",
     "evalue": "The x variable is categorical, but one of ['numeric', 'datetime'] is required",
     "output_type": "error",
     "traceback": [
      "\u001b[31m---------------------------------------------------------------------------\u001b[39m",
      "\u001b[31mTypeError\u001b[39m                                 Traceback (most recent call last)",
      "\u001b[36mCell\u001b[39m\u001b[36m \u001b[39m\u001b[32mIn[24]\u001b[39m\u001b[32m, line 2\u001b[39m\n\u001b[32m      1\u001b[39m plt.figure(figsize=(\u001b[32m14\u001b[39m,\u001b[32m16\u001b[39m))\n\u001b[32m----> \u001b[39m\u001b[32m2\u001b[39m \u001b[43msns\u001b[49m\u001b[43m.\u001b[49m\u001b[43mkdeplot\u001b[49m\u001b[43m(\u001b[49m\u001b[43mx\u001b[49m\u001b[43m=\u001b[49m\u001b[33;43m'\u001b[39;49m\u001b[33;43mLocation\u001b[39;49m\u001b[33;43m'\u001b[39;49m\u001b[43m,\u001b[49m\u001b[43my\u001b[49m\u001b[43m=\u001b[49m\u001b[33;43m'\u001b[39;49m\u001b[33;43mPrice\u001b[39;49m\u001b[33;43m'\u001b[39;49m\u001b[43m,\u001b[49m\u001b[43mhue\u001b[49m\u001b[43m=\u001b[49m\u001b[33;43m'\u001b[39;49m\u001b[33;43mLocation\u001b[39;49m\u001b[33;43m'\u001b[39;49m\u001b[43m,\u001b[49m\u001b[43mdata\u001b[49m\u001b[43m=\u001b[49m\u001b[43mdf\u001b[49m\u001b[43m)\u001b[49m\n\u001b[32m      3\u001b[39m plt.grid(\u001b[38;5;28;01mTrue\u001b[39;00m)\n\u001b[32m      4\u001b[39m plt.title(\u001b[33m'\u001b[39m\u001b[33mCar price by Location\u001b[39m\u001b[33m'\u001b[39m)\n",
      "\u001b[36mFile \u001b[39m\u001b[32m~\\AppData\\Local\\Packages\\PythonSoftwareFoundation.Python.3.11_qbz5n2kfra8p0\\LocalCache\\local-packages\\Python311\\site-packages\\seaborn\\distributions.py:1679\u001b[39m, in \u001b[36mkdeplot\u001b[39m\u001b[34m(data, x, y, hue, weights, palette, hue_order, hue_norm, color, fill, multiple, common_norm, common_grid, cumulative, bw_method, bw_adjust, warn_singular, log_scale, levels, thresh, gridsize, cut, clip, legend, cbar, cbar_ax, cbar_kws, ax, **kwargs)\u001b[39m\n\u001b[32m   1676\u001b[39m \u001b[38;5;28;01mif\u001b[39;00m ax \u001b[38;5;129;01mis\u001b[39;00m \u001b[38;5;28;01mNone\u001b[39;00m:\n\u001b[32m   1677\u001b[39m     ax = plt.gca()\n\u001b[32m-> \u001b[39m\u001b[32m1679\u001b[39m \u001b[43mp\u001b[49m\u001b[43m.\u001b[49m\u001b[43m_attach\u001b[49m\u001b[43m(\u001b[49m\u001b[43max\u001b[49m\u001b[43m,\u001b[49m\u001b[43m \u001b[49m\u001b[43mallowed_types\u001b[49m\u001b[43m=\u001b[49m\u001b[43m[\u001b[49m\u001b[33;43m\"\u001b[39;49m\u001b[33;43mnumeric\u001b[39;49m\u001b[33;43m\"\u001b[39;49m\u001b[43m,\u001b[49m\u001b[43m \u001b[49m\u001b[33;43m\"\u001b[39;49m\u001b[33;43mdatetime\u001b[39;49m\u001b[33;43m\"\u001b[39;49m\u001b[43m]\u001b[49m\u001b[43m,\u001b[49m\u001b[43m \u001b[49m\u001b[43mlog_scale\u001b[49m\u001b[43m=\u001b[49m\u001b[43mlog_scale\u001b[49m\u001b[43m)\u001b[49m\n\u001b[32m   1681\u001b[39m method = ax.fill_between \u001b[38;5;28;01mif\u001b[39;00m fill \u001b[38;5;28;01melse\u001b[39;00m ax.plot\n\u001b[32m   1682\u001b[39m color = _default_color(method, hue, color, kwargs)\n",
      "\u001b[36mFile \u001b[39m\u001b[32m~\\AppData\\Local\\Packages\\PythonSoftwareFoundation.Python.3.11_qbz5n2kfra8p0\\LocalCache\\local-packages\\Python311\\site-packages\\seaborn\\_base.py:1084\u001b[39m, in \u001b[36mVectorPlotter._attach\u001b[39m\u001b[34m(self, obj, allowed_types, log_scale)\u001b[39m\n\u001b[32m   1079\u001b[39m     \u001b[38;5;28;01mif\u001b[39;00m var_type \u001b[38;5;129;01mnot\u001b[39;00m \u001b[38;5;129;01min\u001b[39;00m allowed_types:\n\u001b[32m   1080\u001b[39m         err = (\n\u001b[32m   1081\u001b[39m             \u001b[33mf\u001b[39m\u001b[33m\"\u001b[39m\u001b[33mThe \u001b[39m\u001b[38;5;132;01m{\u001b[39;00mvar\u001b[38;5;132;01m}\u001b[39;00m\u001b[33m variable is \u001b[39m\u001b[38;5;132;01m{\u001b[39;00mvar_type\u001b[38;5;132;01m}\u001b[39;00m\u001b[33m, but one of \u001b[39m\u001b[33m\"\u001b[39m\n\u001b[32m   1082\u001b[39m             \u001b[33mf\u001b[39m\u001b[33m\"\u001b[39m\u001b[38;5;132;01m{\u001b[39;00mallowed_types\u001b[38;5;132;01m}\u001b[39;00m\u001b[33m is required\u001b[39m\u001b[33m\"\u001b[39m\n\u001b[32m   1083\u001b[39m         )\n\u001b[32m-> \u001b[39m\u001b[32m1084\u001b[39m         \u001b[38;5;28;01mraise\u001b[39;00m \u001b[38;5;167;01mTypeError\u001b[39;00m(err)\n\u001b[32m   1086\u001b[39m \u001b[38;5;66;03m# -- Get axis objects for each row in plot_data for type conversions and scaling\u001b[39;00m\n\u001b[32m   1088\u001b[39m facet_dim = {\u001b[33m\"\u001b[39m\u001b[33mx\u001b[39m\u001b[33m\"\u001b[39m: \u001b[33m\"\u001b[39m\u001b[33mcol\u001b[39m\u001b[33m\"\u001b[39m, \u001b[33m\"\u001b[39m\u001b[33my\u001b[39m\u001b[33m\"\u001b[39m: \u001b[33m\"\u001b[39m\u001b[33mrow\u001b[39m\u001b[33m\"\u001b[39m}\n",
      "\u001b[31mTypeError\u001b[39m: The x variable is categorical, but one of ['numeric', 'datetime'] is required"
     ]
    },
    {
     "data": {
      "image/png": "[encoded data removed]",
      "text/plain": [
       "<Figure size 1400x1600 with 1 Axes>"
      ]
     },
     "metadata": {},
     "output_type": "display_data"
    }
   ],
   "source": [
    "plt.figure(figsize=(14,16))\n",
    "sns.kdeplot(x='Location',y='Price',hue='Location',data=df)\n",
    "plt.grid(True)\n",
    "plt.title('Car price by Location')\n",
    "plt.xlabel('Location')\n",
    "plt.ylabel('Price')\n",
    "plt.xticks(rotation=90)\n",
    "plt.show()"
   ]
  },
  {
   "cell_type": "markdown",
   "id": "923d6690",
   "metadata": {},
   "source": [
    "# Count plot of car condition"
   ]
  },
  {
   "cell_type": "code",
   "execution_count": null,
   "id": "19b9909b",
   "metadata": {},
   "outputs": [
    {
     "data": {
      "image/png": "[encoded data removed]",
      "text/plain": [
       "<Figure size 640x480 with 1 Axes>"
      ]
     },
     "metadata": {},
     "output_type": "display_data"
    }
   ],
   "source": [
    "sns.countplot(x='UsedOrNew' , hue='UsedOrNew' , data=df, palette='Set2')\n",
    "plt.xlabel('Car condition')\n",
    "plt.ylabel('Count')\n",
    "plt.title('Count per condition')\n",
    "plt.show()\n"
   ]
  },
  {
   "cell_type": "markdown",
   "id": "8429a99b",
   "metadata": {},
   "source": [
    "From the plot above Used vehicles dorminate the market followed by the new market the demo ones are the least"
   ]
  },
  {
   "cell_type": "markdown",
   "id": "291e12c0",
   "metadata": {},
   "source": [
    "# Price vs Car condition"
   ]
  },
  {
   "cell_type": "code",
   "execution_count": null,
   "id": "ef041ab7",
   "metadata": {},
   "outputs": [
    {
     "data": {
      "image/png": "[encoded data removed]",
      "text/plain": [
       "<Figure size 800x1600 with 1 Axes>"
      ]
     },
     "metadata": {},
     "output_type": "display_data"
    }
   ],
   "source": [
    "plt.figure(figsize=(8,16))\n",
    "sns.boxplot(y='Price', hue='UsedOrNew' , data=df , palette='Set1')\n",
    "plt.xlabel('Car Condition')\n",
    "plt.ylabel('Price')\n",
    "plt.title('Price per the condition of the car')\n",
    "plt.grid(True)\n",
    "plt.legend()\n",
    "plt.show()"
   ]
  },
  {
   "cell_type": "markdown",
   "id": "ee8dca6b",
   "metadata": {},
   "source": [
    "New cars cost more compared to the other ones"
   ]
  },
  {
   "cell_type": "code",
   "execution_count": null,
   "id": "bb82b6b7",
   "metadata": {},
   "outputs": [],
   "source": []
  }
 ],
 "metadata": {
  "kernelspec": {
   "display_name": "Python 3",
   "language": "python",
   "name": "python3"
  },
  "language_info": {
   "codemirror_mode": {
    "name": "ipython",
    "version": 3
   },
   "file_extension": ".py",
   "mimetype": "text/x-python",
   "name": "python",
   "nbconvert_exporter": "python",
   "pygments_lexer": "ipython3",
   "version": "3.11.9"
  }
 },
 "nbformat": 4,
 "nbformat_minor": 5
}
